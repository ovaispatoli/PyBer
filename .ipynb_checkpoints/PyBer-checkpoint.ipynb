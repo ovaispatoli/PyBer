{
 "cells": [
  {
   "cell_type": "markdown",
   "metadata": {},
   "source": [
    "# PyBer Ride Sharing Analysis and Visualization"
   ]
  },
  {
   "cell_type": "code",
   "execution_count": 142,
   "metadata": {},
   "outputs": [],
   "source": [
    "#Dependencies and File Paths\n",
    "import pandas as pd\n",
    "import matplotlib.pyplot as plt\n",
    "import numpy as np\n",
    "\n",
    "#File Paths\n",
    "ride_data_path = \"Data/ride_data.csv\"\n",
    "city_data_path = \"Data/city_data.csv\"\n",
    "\n",
    "#Read file(s)\n",
    "\n",
    "ride_data_df = pd.read_csv(ride_data_path)\n",
    "city_data_df = pd.read_csv(city_data_path)\n",
    "\n"
   ]
  },
  {
   "cell_type": "code",
   "execution_count": 143,
   "metadata": {},
   "outputs": [
    {
     "name": "stdout",
     "output_type": "stream",
     "text": [
      "                 city                 date   fare        ride_id\n",
      "0  Lake Jonathanshire  2018-01-14 10:14:22  13.83  5739410935873\n",
      "1  South Michelleport  2018-03-04 18:24:09  30.24  2343912425577\n",
      "2  Port Samanthamouth  2018-02-24 04:29:00  33.44  2005065760003\n",
      "3          Rodneyfort  2018-02-10 23:22:03  23.44  5149245426178\n",
      "4          South Jack  2018-03-06 04:28:35  34.58  3908451377344\n",
      "           city  driver_count   type\n",
      "0   Richardfort            38  Urban\n",
      "1  Williamsstad            59  Urban\n",
      "2   Port Angela            67  Urban\n",
      "3    Rodneyfort            34  Urban\n",
      "4   West Robert            39  Urban\n"
     ]
    }
   ],
   "source": [
    "#Preview DataFrames: Print the heads of both DataFrames\n",
    "\n",
    "print(ride_data_df.head())\n",
    "print(city_data_df.head())"
   ]
  },
  {
   "cell_type": "code",
   "execution_count": 144,
   "metadata": {},
   "outputs": [
    {
     "data": {
      "text/html": [
       "<div>\n",
       "<style scoped>\n",
       "    .dataframe tbody tr th:only-of-type {\n",
       "        vertical-align: middle;\n",
       "    }\n",
       "\n",
       "    .dataframe tbody tr th {\n",
       "        vertical-align: top;\n",
       "    }\n",
       "\n",
       "    .dataframe thead th {\n",
       "        text-align: right;\n",
       "    }\n",
       "</style>\n",
       "<table border=\"1\" class=\"dataframe\">\n",
       "  <thead>\n",
       "    <tr style=\"text-align: right;\">\n",
       "      <th></th>\n",
       "      <th>city</th>\n",
       "      <th>date</th>\n",
       "      <th>fare</th>\n",
       "      <th>ride_id</th>\n",
       "      <th>driver_count</th>\n",
       "      <th>type</th>\n",
       "    </tr>\n",
       "  </thead>\n",
       "  <tbody>\n",
       "    <tr>\n",
       "      <th>0</th>\n",
       "      <td>Lake Jonathanshire</td>\n",
       "      <td>2018-01-14 10:14:22</td>\n",
       "      <td>13.83</td>\n",
       "      <td>5739410935873</td>\n",
       "      <td>5</td>\n",
       "      <td>Urban</td>\n",
       "    </tr>\n",
       "    <tr>\n",
       "      <th>1</th>\n",
       "      <td>South Michelleport</td>\n",
       "      <td>2018-03-04 18:24:09</td>\n",
       "      <td>30.24</td>\n",
       "      <td>2343912425577</td>\n",
       "      <td>72</td>\n",
       "      <td>Urban</td>\n",
       "    </tr>\n",
       "    <tr>\n",
       "      <th>2</th>\n",
       "      <td>Port Samanthamouth</td>\n",
       "      <td>2018-02-24 04:29:00</td>\n",
       "      <td>33.44</td>\n",
       "      <td>2005065760003</td>\n",
       "      <td>57</td>\n",
       "      <td>Urban</td>\n",
       "    </tr>\n",
       "    <tr>\n",
       "      <th>3</th>\n",
       "      <td>Rodneyfort</td>\n",
       "      <td>2018-02-10 23:22:03</td>\n",
       "      <td>23.44</td>\n",
       "      <td>5149245426178</td>\n",
       "      <td>34</td>\n",
       "      <td>Urban</td>\n",
       "    </tr>\n",
       "    <tr>\n",
       "      <th>4</th>\n",
       "      <td>South Jack</td>\n",
       "      <td>2018-03-06 04:28:35</td>\n",
       "      <td>34.58</td>\n",
       "      <td>3908451377344</td>\n",
       "      <td>46</td>\n",
       "      <td>Urban</td>\n",
       "    </tr>\n",
       "  </tbody>\n",
       "</table>\n",
       "</div>"
      ],
      "text/plain": [
       "                 city                 date   fare        ride_id  \\\n",
       "0  Lake Jonathanshire  2018-01-14 10:14:22  13.83  5739410935873   \n",
       "1  South Michelleport  2018-03-04 18:24:09  30.24  2343912425577   \n",
       "2  Port Samanthamouth  2018-02-24 04:29:00  33.44  2005065760003   \n",
       "3          Rodneyfort  2018-02-10 23:22:03  23.44  5149245426178   \n",
       "4          South Jack  2018-03-06 04:28:35  34.58  3908451377344   \n",
       "\n",
       "   driver_count   type  \n",
       "0             5  Urban  \n",
       "1            72  Urban  \n",
       "2            57  Urban  \n",
       "3            34  Urban  \n",
       "4            46  Urban  "
      ]
     },
     "execution_count": 144,
     "metadata": {},
     "output_type": "execute_result"
    }
   ],
   "source": [
    "#Merge DataFrames: Merge on 'city' column\n",
    "\n",
    "merged_data = pd.merge(ride_data_df,city_data_df,on=\"city\", how=\"left\")\n",
    "merged_data.head()\n"
   ]
  },
  {
   "cell_type": "markdown",
   "metadata": {},
   "source": [
    "## Bubble Plot of Ride Share Data (by City type)"
   ]
  },
  {
   "cell_type": "markdown",
   "metadata": {},
   "source": [
    "### Calculations for Bubble Plot"
   ]
  },
  {
   "cell_type": "code",
   "execution_count": 145,
   "metadata": {},
   "outputs": [],
   "source": [
    "#Create DataFrames for each City Type\n",
    "\n",
    "urban_cities = merged_data[merged_data[\"type\"] == \"Urban\"].groupby(\"city\")\n",
    "suburban_cities = merged_data[merged_data[\"type\"] == \"Suburban\"].groupby(\"city\")\n",
    "rural_cities = merged_data[merged_data[\"type\"] == \"Rural\"].groupby(\"city\")"
   ]
  },
  {
   "cell_type": "code",
   "execution_count": 146,
   "metadata": {},
   "outputs": [],
   "source": [
    "#Calcuations for Urban Cities: Ride Count, Average Fare, Average Driver Count (for size)\n",
    "\n",
    "x_urban = urban_cities[\"ride_id\"].count()\n",
    "y_urban = urban_cities[\"fare\"].mean()\n",
    "s_urban = urban_cities[\"driver_count\"].mean()"
   ]
  },
  {
   "cell_type": "code",
   "execution_count": 147,
   "metadata": {},
   "outputs": [],
   "source": [
    "#Calcuations for Sub-Urban Cities: Ride Count, Average Fare, Average Driver Count (for size)\n",
    "\n",
    "x_suburban = suburban_cities[\"ride_id\"].count()\n",
    "y_suburban = suburban_cities[\"fare\"].mean()\n",
    "s_suburban = suburban_cities[\"driver_count\"].mean()\n"
   ]
  },
  {
   "cell_type": "code",
   "execution_count": 148,
   "metadata": {},
   "outputs": [],
   "source": [
    "#Calcuations for Rural Cities: Ride Count, Average Fare, Average Driver Count (for size)\n",
    "\n",
    "x_rural = rural_cities[\"ride_id\"].count()\n",
    "y_rural=  rural_cities[\"fare\"].mean()\n",
    "s_rural = rural_cities[\"driver_count\"].mean()"
   ]
  },
  {
   "cell_type": "markdown",
   "metadata": {},
   "source": [
    "### Bubble Plot Settings"
   ]
  },
  {
   "cell_type": "code",
   "execution_count": 149,
   "metadata": {},
   "outputs": [
    {
     "data": {
      "text/plain": [
       "<matplotlib.collections.PathCollection at 0x1c708f16240>"
      ]
     },
     "execution_count": 149,
     "metadata": {},
     "output_type": "execute_result"
    },
    {
     "data": {
      "image/png": "[encoded data removed]",
      "text/plain": [
       "<Figure size 432x288 with 1 Axes>"
      ]
     },
     "metadata": {
      "needs_background": "light"
     },
     "output_type": "display_data"
    }
   ],
   "source": [
    "#Scatter Plots for each City type\n",
    "\n",
    "plt.scatter(x_urban, y_urban, label=\"Urban\", s=s_urban * 5, color=[\"coral\"], edgecolor=\"black\",alpha=0.75, marker=\"o\")\n",
    "plt.scatter(x_suburban, y_suburban, label=\"Suburban\", s=s_suburban * 10, color=[\"lightskyblue\"], edgecolor=\"black\",alpha=0.75, marker=\"o\")\n",
    "plt.scatter(x_rural, y_rural, label=\"Rural\", s=s_rural * 10, color=[\"gold\"], edgecolor=\"black\",alpha=0.75, marker=\"o\")"
   ]
  },
  {
   "cell_type": "code",
   "execution_count": null,
   "metadata": {},
   "outputs": [],
   "source": []
  },
  {
   "cell_type": "code",
   "execution_count": null,
   "metadata": {},
   "outputs": [],
   "source": []
  }
 ],
 "metadata": {
  "kernelspec": {
   "display_name": "Python 3",
   "language": "python",
   "name": "python3"
  },
  "language_info": {
   "codemirror_mode": {
    "name": "ipython",
    "version": 3
   },
   "file_extension": ".py",
   "mimetype": "text/x-python",
   "name": "python",
   "nbconvert_exporter": "python",
   "pygments_lexer": "ipython3",
   "version": "3.7.1"
  }
 },
 "nbformat": 4,
 "nbformat_minor": 2
}
