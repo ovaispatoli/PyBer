{
 "cells": [
  {
   "cell_type": "code",
   "execution_count": 5,
   "metadata": {},
   "outputs": [],
   "source": [
    "#Dependencies and File Paths\n",
    "import pandas as pd\n",
    "import matplotlib.pyplot as plt\n",
    "import numpy as np\n",
    "\n",
    "#File Paths\n",
    "ride_data_path = \"Data/ride_data.csv\"\n",
    "city_data_path = \"Data/city_data.csv\"\n",
    "\n",
    "#Read file(s)\n",
    "\n",
    "ride_df = pd.read_csv(ride_data_path)\n",
    "city_df = pd.read_csv(city_data_path)\n"
   ]
  },
  {
   "cell_type": "code",
   "execution_count": 7,
   "metadata": {},
   "outputs": [
    {
     "name": "stdout",
     "output_type": "stream",
     "text": [
      "                 city                 date   fare        ride_id\n",
      "0  Lake Jonathanshire  2018-01-14 10:14:22  13.83  5739410935873\n",
      "1  South Michelleport  2018-03-04 18:24:09  30.24  2343912425577\n",
      "2  Port Samanthamouth  2018-02-24 04:29:00  33.44  2005065760003\n",
      "3          Rodneyfort  2018-02-10 23:22:03  23.44  5149245426178\n",
      "4          South Jack  2018-03-06 04:28:35  34.58  3908451377344\n",
      "           city  driver_count   type\n",
      "0   Richardfort            38  Urban\n",
      "1  Williamsstad            59  Urban\n",
      "2   Port Angela            67  Urban\n",
      "3    Rodneyfort            34  Urban\n",
      "4   West Robert            39  Urban\n"
     ]
    }
   ],
   "source": [
    "#Preview DataFrames: Print the heads of both DataFrames\n",
    "\n",
    "print(ride_df.head())\n",
    "print(city_df.head())"
   ]
  },
  {
   "cell_type": "code",
   "execution_count": 15,
   "metadata": {},
   "outputs": [
    {
     "data": {
      "text/html": [
       "<div>\n",
       "<style scoped>\n",
       "    .dataframe tbody tr th:only-of-type {\n",
       "        vertical-align: middle;\n",
       "    }\n",
       "\n",
       "    .dataframe tbody tr th {\n",
       "        vertical-align: top;\n",
       "    }\n",
       "\n",
       "    .dataframe thead th {\n",
       "        text-align: right;\n",
       "    }\n",
       "</style>\n",
       "<table border=\"1\" class=\"dataframe\">\n",
       "  <thead>\n",
       "    <tr style=\"text-align: right;\">\n",
       "      <th></th>\n",
       "      <th>city</th>\n",
       "      <th>date</th>\n",
       "      <th>fare</th>\n",
       "      <th>ride_id</th>\n",
       "      <th>driver_count</th>\n",
       "      <th>type</th>\n",
       "    </tr>\n",
       "  </thead>\n",
       "  <tbody>\n",
       "    <tr>\n",
       "      <th>0</th>\n",
       "      <td>Lake Jonathanshire</td>\n",
       "      <td>2018-01-14 10:14:22</td>\n",
       "      <td>13.83</td>\n",
       "      <td>5739410935873</td>\n",
       "      <td>5</td>\n",
       "      <td>Urban</td>\n",
       "    </tr>\n",
       "    <tr>\n",
       "      <th>1</th>\n",
       "      <td>Lake Jonathanshire</td>\n",
       "      <td>2018-04-07 20:51:11</td>\n",
       "      <td>31.25</td>\n",
       "      <td>4441251834598</td>\n",
       "      <td>5</td>\n",
       "      <td>Urban</td>\n",
       "    </tr>\n",
       "    <tr>\n",
       "      <th>2</th>\n",
       "      <td>Lake Jonathanshire</td>\n",
       "      <td>2018-03-09 23:45:55</td>\n",
       "      <td>19.89</td>\n",
       "      <td>2389495660448</td>\n",
       "      <td>5</td>\n",
       "      <td>Urban</td>\n",
       "    </tr>\n",
       "    <tr>\n",
       "      <th>3</th>\n",
       "      <td>Lake Jonathanshire</td>\n",
       "      <td>2018-04-07 18:09:21</td>\n",
       "      <td>24.28</td>\n",
       "      <td>7796805191168</td>\n",
       "      <td>5</td>\n",
       "      <td>Urban</td>\n",
       "    </tr>\n",
       "    <tr>\n",
       "      <th>4</th>\n",
       "      <td>Lake Jonathanshire</td>\n",
       "      <td>2018-01-02 14:14:50</td>\n",
       "      <td>13.89</td>\n",
       "      <td>424254840012</td>\n",
       "      <td>5</td>\n",
       "      <td>Urban</td>\n",
       "    </tr>\n",
       "  </tbody>\n",
       "</table>\n",
       "</div>"
      ],
      "text/plain": [
       "                 city                 date   fare        ride_id  \\\n",
       "0  Lake Jonathanshire  2018-01-14 10:14:22  13.83  5739410935873   \n",
       "1  Lake Jonathanshire  2018-04-07 20:51:11  31.25  4441251834598   \n",
       "2  Lake Jonathanshire  2018-03-09 23:45:55  19.89  2389495660448   \n",
       "3  Lake Jonathanshire  2018-04-07 18:09:21  24.28  7796805191168   \n",
       "4  Lake Jonathanshire  2018-01-02 14:14:50  13.89   424254840012   \n",
       "\n",
       "   driver_count   type  \n",
       "0             5  Urban  \n",
       "1             5  Urban  \n",
       "2             5  Urban  \n",
       "3             5  Urban  \n",
       "4             5  Urban  "
      ]
     },
     "execution_count": 15,
     "metadata": {},
     "output_type": "execute_result"
    }
   ],
   "source": [
    "#Merge DataFrames: Merge on 'city' column\n",
    "\n",
    "merged_data = pd.merge(ride_df,city_df,on=\"city\")\n"
   ]
  },
  {
   "cell_type": "code",
   "execution_count": null,
   "metadata": {},
   "outputs": [],
   "source": [
    "#Preview the Merged DataFrame: merged_data\n",
    "merged_data.head()"
   ]
  },
  {
   "cell_type": "code",
   "execution_count": 23,
   "metadata": {},
   "outputs": [
    {
     "data": {
      "text/plain": [
       "city\n",
       "Amandaburgh              443.55\n",
       "Barajasview              557.31\n",
       "Barronchester            582.76\n",
       "Bethanyland              593.21\n",
       "Bradshawfurt             400.64\n",
       "Brandonfort              673.31\n",
       "Carriemouth              764.49\n",
       "Christopherfurt          661.55\n",
       "Colemanland              679.68\n",
       "Davidfurt                543.93\n",
       "Deanville                491.01\n",
       "East Aaronbury           230.95\n",
       "East Danielview          536.53\n",
       "East Kaylahaven          688.98\n",
       "East Kentstad            387.70\n",
       "East Marymouth           832.55\n",
       "Erikaland                298.88\n",
       "Garzaport                 72.37\n",
       "Grahamburgh              630.53\n",
       "Grayville                416.45\n",
       "Harringtonfort           200.82\n",
       "Huntermouth              695.85\n",
       "Hurleymouth              724.96\n",
       "Jerryton                 641.23\n",
       "Jessicaport              216.08\n",
       "Johnton                  562.50\n",
       "Joneschester             557.24\n",
       "Josephside               887.17\n",
       "Justinberg               710.83\n",
       "Karenberg                447.78\n",
       "                         ...   \n",
       "South Evanton            828.51\n",
       "South Jack               436.34\n",
       "South Jennifer           246.85\n",
       "South Karenland         1008.35\n",
       "South Latoya             381.77\n",
       "South Marychester        334.96\n",
       "South Michelleport       758.00\n",
       "South Phillip            885.71\n",
       "South Saramouth          144.64\n",
       "South Teresa             686.85\n",
       "Taylorhaven              253.58\n",
       "Valentineton             542.00\n",
       "Veronicaberg             558.08\n",
       "Victoriaport             388.92\n",
       "West Angela             1013.61\n",
       "West Anthony             742.10\n",
       "West Christopherberg     634.95\n",
       "West Ericstad            402.25\n",
       "West Gabriel             467.96\n",
       "West Hannah              620.50\n",
       "West Heather             305.01\n",
       "West Heidi               647.75\n",
       "West Josephberg          564.73\n",
       "West Kimmouth            597.43\n",
       "West Patrickchester      451.73\n",
       "West Robert              778.84\n",
       "West Samuelburgh         544.19\n",
       "Williamsonville          446.25\n",
       "Williamsstad             560.33\n",
       "Williamsview             531.98\n",
       "Name: fare, Length: 120, dtype: float64"
      ]
     },
     "execution_count": 23,
     "metadata": {},
     "output_type": "execute_result"
    }
   ],
   "source": [
    "#Data Analysis: Average Fare(by city), Total Rides(by city), Total Drivers (All)\n",
    "\n",
    "#Average Fare (groupby): Set index to city and find the mean of fares (gives the average for each city)\n",
    "city_df = merged_data.groupby('city')\n",
    "average_fare_unsorted = city_df.fare.mean()\n",
    "average_fare\n",
    "\n",
    "\n",
    "\n"
   ]
  },
  {
   "cell_type": "code",
   "execution_count": null,
   "metadata": {},
   "outputs": [],
   "source": [
    "#Bubble Plot"
   ]
  },
  {
   "cell_type": "code",
   "execution_count": 3,
   "metadata": {},
   "outputs": [],
   "source": [
    "#Total Fares by City Type"
   ]
  },
  {
   "cell_type": "code",
   "execution_count": 4,
   "metadata": {},
   "outputs": [],
   "source": [
    "#Total Rides by City Type"
   ]
  },
  {
   "cell_type": "code",
   "execution_count": 5,
   "metadata": {},
   "outputs": [],
   "source": [
    "#Total Drivers by City Type"
   ]
  },
  {
   "cell_type": "code",
   "execution_count": null,
   "metadata": {},
   "outputs": [],
   "source": []
  }
 ],
 "metadata": {
  "kernelspec": {
   "display_name": "Python 3",
   "language": "python",
   "name": "python3"
  },
  "language_info": {
   "codemirror_mode": {
    "name": "ipython",
    "version": 3
   },
   "file_extension": ".py",
   "mimetype": "text/x-python",
   "name": "python",
   "nbconvert_exporter": "python",
   "pygments_lexer": "ipython3",
   "version": "3.7.1"
  }
 },
 "nbformat": 4,
 "nbformat_minor": 2
}
