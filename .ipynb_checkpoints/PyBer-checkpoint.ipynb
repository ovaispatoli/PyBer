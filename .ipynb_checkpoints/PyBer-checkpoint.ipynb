{
 "cells": [
  {
   "cell_type": "code",
   "execution_count": 5,
   "metadata": {},
   "outputs": [],
   "source": [
    "#Dependencies and File Paths\n",
    "import pandas as pd\n",
    "import matplotlib.pyplot as plt\n",
    "import numpy as np\n",
    "\n",
    "#File Paths\n",
    "ride_data_path = \"Data/ride_data.csv\"\n",
    "city_data_path = \"Data/city_data.csv\"\n",
    "\n",
    "#Read file(s)\n",
    "\n",
    "ride_df = pd.read_csv(ride_data_path)\n",
    "city_df = pd.read_csv(city_data_path)\n"
   ]
  },
  {
   "cell_type": "code",
   "execution_count": 7,
   "metadata": {},
   "outputs": [
    {
     "name": "stdout",
     "output_type": "stream",
     "text": [
      "                 city                 date   fare        ride_id\n",
      "0  Lake Jonathanshire  2018-01-14 10:14:22  13.83  5739410935873\n",
      "1  South Michelleport  2018-03-04 18:24:09  30.24  2343912425577\n",
      "2  Port Samanthamouth  2018-02-24 04:29:00  33.44  2005065760003\n",
      "3          Rodneyfort  2018-02-10 23:22:03  23.44  5149245426178\n",
      "4          South Jack  2018-03-06 04:28:35  34.58  3908451377344\n",
      "           city  driver_count   type\n",
      "0   Richardfort            38  Urban\n",
      "1  Williamsstad            59  Urban\n",
      "2   Port Angela            67  Urban\n",
      "3    Rodneyfort            34  Urban\n",
      "4   West Robert            39  Urban\n"
     ]
    }
   ],
   "source": [
    "#Preview DataFrames: Print the heads of both DataFrames\n",
    "\n",
    "print(ride_df.head())\n",
    "print(city_df.head())"
   ]
  },
  {
   "cell_type": "code",
   "execution_count": 13,
   "metadata": {},
   "outputs": [
    {
     "name": "stdout",
     "output_type": "stream",
     "text": [
      "          city  driver_count   type                 date   fare        ride_id\n",
      "0  Richardfort            38  Urban  2018-02-24 08:40:38  13.93  5628545007794\n",
      "1  Richardfort            38  Urban  2018-02-13 12:46:07  14.00   910050116494\n",
      "2  Richardfort            38  Urban  2018-02-16 13:52:19  17.92   820639054416\n",
      "3  Richardfort            38  Urban  2018-02-01 20:18:28  10.26  9554935945413\n",
      "4  Richardfort            38  Urban  2018-04-17 02:26:37  23.00   720020655850\n",
      "                 city                 date   fare        ride_id  \\\n",
      "0  Lake Jonathanshire  2018-01-14 10:14:22  13.83  5739410935873   \n",
      "1  Lake Jonathanshire  2018-04-07 20:51:11  31.25  4441251834598   \n",
      "2  Lake Jonathanshire  2018-03-09 23:45:55  19.89  2389495660448   \n",
      "3  Lake Jonathanshire  2018-04-07 18:09:21  24.28  7796805191168   \n",
      "4  Lake Jonathanshire  2018-01-02 14:14:50  13.89   424254840012   \n",
      "\n",
      "   driver_count   type  \n",
      "0             5  Urban  \n",
      "1             5  Urban  \n",
      "2             5  Urban  \n",
      "3             5  Urban  \n",
      "4             5  Urban  \n"
     ]
    }
   ],
   "source": [
    "#Merge DataFrames: Merge on 'city' column\n",
    "\n",
    "merged_data = pd.merge(ride_df,city_df,on=\"city\")"
   ]
  },
  {
   "cell_type": "code",
   "execution_count": null,
   "metadata": {},
   "outputs": [],
   "source": [
    "#Preview the Merged DataFrame: DataFrame name"
   ]
  },
  {
   "cell_type": "code",
   "execution_count": 2,
   "metadata": {},
   "outputs": [],
   "source": [
    "#Bubble Plot"
   ]
  },
  {
   "cell_type": "code",
   "execution_count": 3,
   "metadata": {},
   "outputs": [],
   "source": [
    "#Total Fares by City Type"
   ]
  },
  {
   "cell_type": "code",
   "execution_count": 4,
   "metadata": {},
   "outputs": [],
   "source": [
    "#Total Rides by City Type"
   ]
  },
  {
   "cell_type": "code",
   "execution_count": 5,
   "metadata": {},
   "outputs": [],
   "source": [
    "#Total Drivers by City Type"
   ]
  },
  {
   "cell_type": "code",
   "execution_count": null,
   "metadata": {},
   "outputs": [],
   "source": []
  }
 ],
 "metadata": {
  "kernelspec": {
   "display_name": "Python 3",
   "language": "python",
   "name": "python3"
  },
  "language_info": {
   "codemirror_mode": {
    "name": "ipython",
    "version": 3
   },
   "file_extension": ".py",
   "mimetype": "text/x-python",
   "name": "python",
   "nbconvert_exporter": "python",
   "pygments_lexer": "ipython3",
   "version": "3.7.1"
  }
 },
 "nbformat": 4,
 "nbformat_minor": 2
}
